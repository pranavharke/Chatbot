{
 "cells": [
  {
   "cell_type": "code",
   "execution_count": 77,
   "id": "0e2fd693",
   "metadata": {},
   "outputs": [],
   "source": [
    "from langchain.llms import OpenAI\n",
    "from langchain_groq import ChatGroq"
   ]
  },
  {
   "cell_type": "code",
   "execution_count": 78,
   "id": "e02d4a7c",
   "metadata": {},
   "outputs": [],
   "source": [
    "import os\n",
    "import streamlit as st\n",
    "os.environ[\"GROQ_API_KEY\"] = st.secrets[\"GROQ_API_KEY\"]"
   ]
  },
  {
   "cell_type": "code",
   "execution_count": 79,
   "id": "1f4ea29d",
   "metadata": {},
   "outputs": [],
   "source": [
    "llm = ChatGroq(model=\"llama3-8b-8192\", temperature=0.7)"
   ]
  },
  {
   "cell_type": "code",
   "execution_count": 80,
   "id": "120c75f0",
   "metadata": {},
   "outputs": [
    {
     "name": "stdout",
     "output_type": "stream",
     "text": [
      "A nice question!\n",
      "\n",
      "The capital of India, which is also known as Bharat, is New Delhi.\n"
     ]
    }
   ],
   "source": [
    "text = \"What is the capital of Bharat?\"\n",
    "print(llm.predict(text))"
   ]
  },
  {
   "cell_type": "code",
   "execution_count": 81,
   "id": "0fe663f9",
   "metadata": {},
   "outputs": [],
   "source": [
    "os.environ[\"HUGGINGFACEHUB_API_TOKEN\"] = st.secrets[\"HUGGINGFACEHUB_API_TOKEN\"]"
   ]
  },
  {
   "cell_type": "code",
   "execution_count": 82,
   "id": "fa3b8b98",
   "metadata": {},
   "outputs": [],
   "source": [
    "from langchain import HuggingFaceHub\n",
    "llm_huggingface=HuggingFaceHub(repo_id=\"google/flan-t5-large\",model_kwargs={\"temperature\":0.7})"
   ]
  },
  {
   "cell_type": "code",
   "execution_count": 83,
   "id": "0b03eff3",
   "metadata": {},
   "outputs": [
    {
     "name": "stderr",
     "output_type": "stream",
     "text": [
      "Device set to use cpu\n"
     ]
    },
    {
     "name": "stdout",
     "output_type": "stream",
     "text": [
      "moscow\n"
     ]
    }
   ],
   "source": [
    "from transformers import pipeline\n",
    "\n",
    "pipe = pipeline(\"text2text-generation\", model=\"google/flan-t5-large\")\n",
    "output = pipe(\"What is the capital of Russia?\")[0][\"generated_text\"]\n",
    "print(output)\n"
   ]
  },
  {
   "cell_type": "code",
   "execution_count": 108,
   "id": "b128d5cf",
   "metadata": {},
   "outputs": [
    {
     "name": "stdout",
     "output_type": "stream",
     "text": [
      "the capital city of india\n"
     ]
    }
   ],
   "source": [
    "output = pipe(\"How New Delhi relates to India?\")[0][\"generated_text\"]\n",
    "print(output)"
   ]
  },
  {
   "cell_type": "code",
   "execution_count": 85,
   "id": "fc845b31",
   "metadata": {},
   "outputs": [
    {
     "data": {
      "text/plain": [
       "'Tell me the capital of this India'"
      ]
     },
     "execution_count": 85,
     "metadata": {},
     "output_type": "execute_result"
    }
   ],
   "source": [
    "from langchain.prompts import PromptTemplate\n",
    "\n",
    "prompt_template=PromptTemplate(input_variables=['country'],\n",
    "template=\"Tell me the capital of this {country}\")\n",
    "\n",
    "prompt_template.format(country=\"India\")"
   ]
  },
  {
   "cell_type": "code",
   "execution_count": 86,
   "id": "896c9973",
   "metadata": {},
   "outputs": [
    {
     "name": "stdout",
     "output_type": "stream",
     "text": [
      "I think there may be a slight misunderstanding! India is a country, not a state or a province, so it doesn't have multiple capitals. The capital of India is a single city, which is:\n",
      "\n",
      "New Delhi ( Hindi: नई दिल्ली)\n",
      "\n",
      "Let me know if you have any further questions!\n"
     ]
    }
   ],
   "source": [
    "from langchain.chains import LLMChain\n",
    "chain=LLMChain(llm=llm,prompt=prompt_template)\n",
    "print(chain.run(\"India\"))"
   ]
  },
  {
   "cell_type": "code",
   "execution_count": 87,
   "id": "201c472e",
   "metadata": {},
   "outputs": [],
   "source": [
    "capital_template=PromptTemplate(input_variables=['country'],\n",
    "template=\"Please tell me the capital of the {country}\")\n",
    "\n",
    "capital_chain=LLMChain(llm=llm,prompt=capital_template)\n",
    "\n",
    "famous_template=PromptTemplate(input_variables=['capital'],\n",
    "template=\"Suggest me some amazing places to visit in {capital}\")"
   ]
  },
  {
   "cell_type": "code",
   "execution_count": 88,
   "id": "fcb41ba2",
   "metadata": {},
   "outputs": [],
   "source": [
    "famous_chain=LLMChain(llm=llm,prompt=famous_template)"
   ]
  },
  {
   "cell_type": "code",
   "execution_count": 89,
   "id": "46e0d036",
   "metadata": {},
   "outputs": [
    {
     "name": "stdout",
     "output_type": "stream",
     "text": [
      "The vibrant and bustling city of New Delhi! There are countless amazing places to visit in the capital of India, rich in history, culture, and architecture. Here are some must-visit attractions to add to your itinerary:\n",
      "\n",
      "1. **Red Fort (Lal Qila)**: A majestic Mughal fort built in the 17th century, now a UNESCO World Heritage Site. It's a symbol of India's rich history and architecture.\n",
      "2. **Qutub Minar**: The tallest minaret in India, built in 1192, is an iconic landmark and one of the Seven Wonders of the Medieval World.\n",
      "3. **India Gate**: A war memorial built to commemorate the Indian soldiers who died during World War I. It's a popular spot for sunset views and picnics.\n",
      "4. **Humayun's Tomb**: A beautiful example of Mughal architecture, this tomb is a precursor to the Taj Mahal and is also a UNESCO World Heritage Site.\n",
      "5. **Akshardham Temple**: A stunning Hindu temple complex with beautiful architecture, water features, and cultural exhibits.\n",
      "6. **Rashtrapati Bhavan**: The official residence of the President of India, this building was designed by Sir Edwin Lutyens and is a masterpiece of Indian architecture.\n",
      "7. **Connaught Place**: A bustling commercial hub with a mix of modern and colonial-era architecture, shopping, and dining options.\n",
      "8. **Lodi Gardens**: A peaceful oasis in the heart of the city, with beautiful gardens, walking trails, and stunning views of the city.\n",
      "9. **National Museum**: A museum showcasing India's rich cultural heritage, with a collection of artifacts, art, and exhibits.\n",
      "10. **Purana Qila**: A historic fort built in 1538, now a popular spot for cultural events and festivals.\n",
      "11. **Safdarjung's Tomb**: A beautiful example of Mughal architecture, this tomb is the final resting place of Safdarjung, a Mughal noble.\n",
      "12. **Lotus Temple**: A stunning temple built in the shape of a lotus flower, designed by Fariborz Sahba.\n",
      "13. **Pragati Maidan**: A popular exhibition and event space with a mix of international and national events.\n",
      "14. **Dilli Haat**: A popular craft bazaar with a mix of local and international cuisine, shopping, and cultural performances.\n",
      "15. **Chandni Chowk**: A historic and bustling street market in Old Delhi, famous for its street food, shopping, and cultural experiences.\n",
      "\n",
      "These are just a few of the many amazing places to visit in New Delhi. Depending on your interests and the time of year you visit, there are plenty of other attractions and experiences to explore in this vibrant city!\n"
     ]
    }
   ],
   "source": [
    "from langchain.chains import SimpleSequentialChain\n",
    "chain=SimpleSequentialChain(chains=[capital_chain,famous_chain])\n",
    "print(chain.run(\"India\"))"
   ]
  },
  {
   "cell_type": "code",
   "execution_count": 90,
   "id": "fc25993b",
   "metadata": {},
   "outputs": [],
   "source": [
    "capital_template=PromptTemplate(input_variables=['country'],\n",
    "template=\"Please tell me the capital of the {country}\")\n",
    "\n",
    "capital_chain=LLMChain(llm=llm,prompt=capital_template,output_key=\"capital\")"
   ]
  },
  {
   "cell_type": "code",
   "execution_count": 91,
   "id": "f36c3ddb",
   "metadata": {},
   "outputs": [],
   "source": [
    "famous_template=PromptTemplate(input_variables=['capital'],\n",
    "template=\"Suggest me some amazing places to visit in {capital}\")\n",
    "\n",
    "famous_chain=LLMChain(llm=llm,prompt=famous_template,output_key=\"places\")"
   ]
  },
  {
   "cell_type": "code",
   "execution_count": 92,
   "id": "77b16670",
   "metadata": {},
   "outputs": [],
   "source": [
    "from langchain.chains import SequentialChain\n",
    "chain=SequentialChain(chains=[capital_chain,famous_chain],\n",
    "input_variables=['country'],\n",
    "output_variables=['capital',\"places\"])"
   ]
  },
  {
   "cell_type": "code",
   "execution_count": 93,
   "id": "435989a3",
   "metadata": {},
   "outputs": [
    {
     "data": {
      "text/plain": [
       "{'country': 'India',\n",
       " 'capital': 'The capital of India is New Delhi.',\n",
       " 'places': \"New Delhi, the capital city of India, is a treasure trove of history, culture, and architecture. Here are some amazing places to visit in New Delhi:\\n\\n1. **Red Fort (Lal Qila)**: A magnificent Mughal palace built in 1648, the Red Fort is a must-visit attraction in Delhi. It's a UNESCO World Heritage Site and a symbol of India's rich history.\\n2. **Qutub Minar**: The tallest minaret in India, Qutub Minar is a stunning example of Islamic architecture. It's a must-visit attraction in Delhi and a popular spot for photography.\\n3. **India Gate**: A war memorial built to honor the Indian soldiers who died during World War I, India Gate is a beautiful structure surrounded by lush green gardens.\\n4. **Akshardham Temple**: A modern Hindu temple built in 2005, Akshardham is a beautiful example of Indian architecture and culture. The temple complex features stunning gardens, water features, and a massive statue of Lord Swaminarayan.\\n5. **Humayun's Tomb**: A beautiful example of Mughal architecture, Humayun's Tomb is the first garden tomb in India and a UNESCO World Heritage Site.\\n6. **Pragati Maidan**: A large exhibition center in Delhi, Pragati Maidan hosts various events and exhibitions throughout the year, including the India International Trade Fair.\\n7. **Lodi Gardens**: A beautiful park in the heart of Delhi, Lodi Gardens is a peaceful oasis amidst the hustle and bustle of the city. It's a popular spot for picnics and jogging.\\n8. **Connaught Place**: A bustling commercial center in Delhi, Connaught Place is a popular spot for shopping, dining, and entertainment.\\n9. **Lotus Temple (Bahá'í House of Worship)**: A stunning example of modern architecture, the Lotus Temple is a beautiful place of worship that attracts visitors from around the world.\\n10. **Chandni Chowk**: A historic market in Old Delhi, Chandni Chowk is a must-visit destination for shoppers, foodies, and history buffs. It's a great place to try street food and shop for traditional goods.\\n11. **Rashtrapati Bhavan**: The official residence of the President of India, Rashtrapati Bhavan is a beautiful building with stunning architecture and gardens.\\n12. **National Museum**: A museum that showcases the rich cultural heritage of India, the National Museum features a vast collection of artifacts, art, and exhibits.\\n13. **Safdarjung's Tomb**: A beautiful example of Mughal architecture, Safdarjung's Tomb is the mausoleum of Safdarjung, a Prime Minister of the Mughal Empire.\\n14. **Jama Masjid**: A historic mosque built in 1656, Jama Masjid is one of the largest mosques in India and a popular spot for prayer and sightseeing.\\n15. **Hauz Khas**: A popular neighborhood in Delhi, Hauz Khas is known for its beautiful lake, gardens, and shopping centers.\\n\\nThese are just a few of the many amazing places to visit in New Delhi. The city has a lot to offer, so be sure to explore and discover its hidden gems!\"}"
      ]
     },
     "execution_count": 93,
     "metadata": {},
     "output_type": "execute_result"
    }
   ],
   "source": [
    "chain({'country':\"India\"})"
   ]
  },
  {
   "cell_type": "code",
   "execution_count": 94,
   "id": "25f08dbe",
   "metadata": {},
   "outputs": [],
   "source": [
    "from langchain_groq import ChatGroq\n",
    "from langchain.schema import HumanMessage, SystemMessage, AIMessage"
   ]
  },
  {
   "cell_type": "code",
   "execution_count": 95,
   "id": "6638b83a",
   "metadata": {},
   "outputs": [],
   "source": [
    "chatllm = ChatGroq(model=\"llama3-8b-8192\", temperature=0.7) "
   ]
  },
  {
   "cell_type": "code",
   "execution_count": 96,
   "id": "61481d26",
   "metadata": {},
   "outputs": [
    {
     "data": {
      "text/plain": [
       "AIMessage(content='The capital of Bharat is New Delhi.', additional_kwargs={}, response_metadata={'token_usage': {'completion_tokens': 10, 'prompt_tokens': 29, 'total_tokens': 39, 'completion_time': 0.008333333, 'prompt_time': 0.008761469, 'queue_time': 0.24538021899999998, 'total_time': 0.017094802}, 'model_name': 'llama3-8b-8192', 'system_fingerprint': 'fp_dadc9d6142', 'finish_reason': 'stop', 'logprobs': None}, id='run--08aba60c-2e53-4858-95c9-39f541a8744b-0', usage_metadata={'input_tokens': 29, 'output_tokens': 10, 'total_tokens': 39})"
      ]
     },
     "execution_count": 96,
     "metadata": {},
     "output_type": "execute_result"
    }
   ],
   "source": [
    "chatllm([SystemMessage(content=\"You are a helpful assistant.\"),\n",
    "         HumanMessage(content=\"What is the capital of Bharat?\")])"
   ]
  },
  {
   "cell_type": "code",
   "execution_count": 97,
   "id": "95854928",
   "metadata": {},
   "outputs": [],
   "source": [
    "from langchain_groq import ChatGroq\n",
    "from langchain.prompts import ChatPromptTemplate, MessagesPlaceholder\n",
    "from langchain.schema import BaseOutputParser"
   ]
  },
  {
   "cell_type": "code",
   "execution_count": 98,
   "id": "6f17733e",
   "metadata": {},
   "outputs": [],
   "source": [
    "class Commaseperatedoutput(BaseOutputParser):\n",
    "    def parse(self,text:str):\n",
    "        return text.strip().split(\",\")"
   ]
  },
  {
   "cell_type": "code",
   "execution_count": 99,
   "id": "0dc7cfae",
   "metadata": {},
   "outputs": [],
   "source": [
    "template=\"Your are a helpful assistant. When the use given any input , you should generate 5 words synonyms in a comma seperated list\"\n",
    "human_template=\"{text}\"\n",
    "chatprompt=ChatPromptTemplate.from_messages([\n",
    "    (\"system\",template),\n",
    "    (\"human\",human_template)])"
   ]
  },
  {
   "cell_type": "code",
   "execution_count": 100,
   "id": "665bc76e",
   "metadata": {},
   "outputs": [],
   "source": [
    "chain=chatprompt|chatllm|Commaseperatedoutput()"
   ]
  },
  {
   "cell_type": "code",
   "execution_count": 101,
   "id": "b43ae7b2",
   "metadata": {},
   "outputs": [
    {
     "data": {
      "text/plain": [
       "['Brilliant', ' Smart', ' Intelligent', ' Clever', ' Astute']"
      ]
     },
     "execution_count": 101,
     "metadata": {},
     "output_type": "execute_result"
    }
   ],
   "source": [
    "chain.invoke({\"text\":\"intelligent\"})"
   ]
  },
  {
   "cell_type": "code",
   "execution_count": null,
   "id": "6ae6c3b7",
   "metadata": {},
   "outputs": [],
   "source": []
  },
  {
   "cell_type": "code",
   "execution_count": null,
   "id": "88512189",
   "metadata": {},
   "outputs": [],
   "source": []
  },
  {
   "cell_type": "code",
   "execution_count": null,
   "id": "31cb46ab",
   "metadata": {},
   "outputs": [],
   "source": []
  },
  {
   "cell_type": "code",
   "execution_count": null,
   "id": "d82b9846",
   "metadata": {},
   "outputs": [],
   "source": []
  },
  {
   "cell_type": "code",
   "execution_count": null,
   "id": "01a7155c",
   "metadata": {},
   "outputs": [],
   "source": []
  },
  {
   "cell_type": "code",
   "execution_count": null,
   "id": "e4393740",
   "metadata": {},
   "outputs": [],
   "source": []
  },
  {
   "cell_type": "code",
   "execution_count": null,
   "id": "faee2328",
   "metadata": {},
   "outputs": [],
   "source": []
  },
  {
   "cell_type": "code",
   "execution_count": null,
   "id": "328b0988",
   "metadata": {},
   "outputs": [],
   "source": []
  },
  {
   "cell_type": "code",
   "execution_count": null,
   "id": "2ca213df",
   "metadata": {},
   "outputs": [],
   "source": []
  },
  {
   "cell_type": "code",
   "execution_count": null,
   "id": "99f82cc5",
   "metadata": {},
   "outputs": [],
   "source": []
  },
  {
   "cell_type": "code",
   "execution_count": null,
   "id": "505bc1b0",
   "metadata": {},
   "outputs": [],
   "source": []
  },
  {
   "cell_type": "code",
   "execution_count": null,
   "id": "b8021ade",
   "metadata": {},
   "outputs": [],
   "source": []
  },
  {
   "cell_type": "code",
   "execution_count": null,
   "id": "a4b7e1a4",
   "metadata": {},
   "outputs": [],
   "source": []
  },
  {
   "cell_type": "code",
   "execution_count": null,
   "id": "2ddc3a7d",
   "metadata": {},
   "outputs": [],
   "source": []
  },
  {
   "cell_type": "code",
   "execution_count": null,
   "id": "845b7c12",
   "metadata": {},
   "outputs": [],
   "source": []
  },
  {
   "cell_type": "code",
   "execution_count": null,
   "id": "25179c99",
   "metadata": {},
   "outputs": [],
   "source": []
  },
  {
   "cell_type": "code",
   "execution_count": null,
   "id": "e08376b8",
   "metadata": {},
   "outputs": [],
   "source": []
  },
  {
   "cell_type": "code",
   "execution_count": null,
   "id": "77d96cf7",
   "metadata": {},
   "outputs": [],
   "source": []
  }
 ],
 "metadata": {
  "kernelspec": {
   "display_name": "base",
   "language": "python",
   "name": "python3"
  },
  "language_info": {
   "codemirror_mode": {
    "name": "ipython",
    "version": 3
   },
   "file_extension": ".py",
   "mimetype": "text/x-python",
   "name": "python",
   "nbconvert_exporter": "python",
   "pygments_lexer": "ipython3",
   "version": "3.12.7"
  }
 },
 "nbformat": 4,
 "nbformat_minor": 5
}
